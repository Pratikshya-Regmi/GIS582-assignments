{
 "cells": [
  {
   "cell_type": "markdown",
   "id": "9636fab0-5eec-4f27-9f42-4659d892206a",
   "metadata": {},
   "source": [
    "# NCSU GIS 582: Geospatial Modeling and Analysis\n",
    "\n",
    "## 7B: Hydrologic and Erosion modeling\n",
    "\n",
    "### Outline:\n",
    "\n",
    "- geospatial aspects of models: spatially averaged and distributed models\n",
    "- spatial hydrologic modeling\n",
    "- spatial modeling of erosion and sediment transport\n",
    "- deriving input parameters, analysis and visualization of modeling results\n",
    "- modeling impact of landuse change\n",
    "\n",
    "### Lecture:\n",
    "[Lecture slides: Hydrologic and Erosion Modeling](https://ncsu-geoforall-lab.github.io/geospatial-modeling-course/lectures/hydro_erosion.html)\n",
    "\n",
    "### Supplemental materials:\n",
    "\n",
    "* [Surface Water Flow Modeling](https://link-springer-com.prox.lib.ncsu.edu/chapter/10.1007/978-3-319-89303-7_7) and [Soil Erosion Modeling](https://link-springer-com.prox.lib.ncsu.edu/chapter/10.1007/978-3-319-89303-7_8) chapters from Petrasova et al., 2018, Tangible Modeling with Open Source GIS. Second Edition. Springer. [Available free through NCSU library](https://link-springer-com.prox.lib.ncsu.edu/book/10.1007/978-3-319-89303-7). or through [Springer](https://link.springer.com/book/10.1007%2F978-3-319-89303-7)\n",
    "* [Mitasova et al., 2013, GIS-based soil erosion modeling](https://www-sciencedirect-com.prox.lib.ncsu.edu/science/article/pii/B978012374739600052X), In: Treatise on Geomorphology. Academic Press, San Diego, CA, vol. 3, Remote Sensing and GIScience in Geomorphology, pp. 228–258\n",
    "* [Soil erosion and deposition modeling tutorial](http://ncsu-geoforall-lab.github.io/erosion-modeling-tutorial/) (material under development)\n",
    "* [Erosion modeling tutorial](http://www4.ncsu.edu/~hmitaso/gmslab/reports/CerlErosionTutorial/denix/denixstart.html) (old but useful document)\n",
    "\n",
    "### Resources:\n",
    "\n",
    "- [GRASS GIS overview and manual](https://grass.osgeo.org/grass83/manuals/index.html)\n",
    "- [Recommendations](https://ncsu-geoforall-lab.github.io/geospatial-modeling-course/grass/data_acquisition.html#commands) and [tutorial](https://ncsu-geoforall-lab.github.io/geospatial-modeling-course/grass/grass_intro.html) how to use GUI from the first assignment\n",
    "- [Brief theoretical background, equations, units](https://ncsu-geoforall-lab.github.io/geospatial-modeling-course/resources/erosion_notes.pdf)\n",
    "- [C-factor values](https://ncsu-geoforall-lab.github.io/geospatial-modeling-course/grass/data/cfactor.txt)\n",
    "- [K-factor](https://ncsu-geoforall-lab.github.io/geospatial-modeling-course/resources/kfactor.html)\n",
    "- [R-factor](https://www.ars.usda.gov/ARSUserFiles/64080530/RUSLE/AH_703.pdf) (page 47)\n",
    "\n",
    "Input Text files with recode rules and color rules:\n",
    "\n",
    "- Land use category description (lu_labels.txt)\n",
    "- C-factor recode table (cfac_rules.txt)\n",
    "- C-factor color table (cfac_color.txt)\n",
    "- Soil loss color table (soilloss_color.txt)\n",
    "- Erosion/deposition color table (erdep_color.txt)\n",
    "- Erosion/deposition classes (erdep_class.txt)\n",
    "- Erosion/deposition class labels (erdep_label.txt)\n"
   ]
  },
  {
   "cell_type": "code",
   "execution_count": null,
   "id": "b75ac40a-26d5-4969-aab9-112026386140",
   "metadata": {},
   "outputs": [],
   "source": [
    "import sys\n",
    "v = sys.version_info\n",
    "print(f\"We are using Python {v.major}.{v.minor}.{v.micro}\")"
   ]
  },
  {
   "cell_type": "markdown",
   "id": "dececa58-a375-480a-8408-70b5330afb36",
   "metadata": {},
   "source": [
    "## Start GRASS GIS\n",
    "\n",
    "Create a new mapset to run your analysis."
   ]
  },
  {
   "cell_type": "code",
   "execution_count": null,
   "id": "24532982-5809-4a88-a631-6175b0ef3f55",
   "metadata": {},
   "outputs": [],
   "source": [
    "%%bash\n",
    "\n",
    "grass -c -e ~/grassdata/nc_spm_08_grass7/HW_7B_Flow_Modeling"
   ]
  },
  {
   "cell_type": "code",
   "execution_count": null,
   "id": "9aa5ba7c-18af-4046-be81-7a9ac153d1f4",
   "metadata": {},
   "outputs": [],
   "source": [
    "import subprocess\n",
    "import sys\n",
    "\n",
    "# Ask GRASS GIS where its Python packages are.\n",
    "# FOR WINDOWS:\n",
    "# grass_call = \"grass80\"\n",
    "# shell_setting = True\n",
    "# FOR MAC/LINUX\n",
    "grass_call = \"grass\"\n",
    "shell_setting = False\n",
    "\n",
    "sys.path.append(\n",
    "    subprocess.check_output([grass_call, \"--config\", \"python_path\"], text=True, shell=shell_setting).strip()\n",
    ")\n",
    "\n",
    "# Import GRASS packages\n",
    "import grass.script as gs\n",
    "import grass.jupyter as gj\n",
    "\n",
    "# Start GRASS Session\n",
    "gj.init(\"~/grassdata\", \"nc_spm_08_grass7\", \"HW_7B_Flow_Modeling\")"
   ]
  },
  {
   "cell_type": "markdown",
   "id": "7a11fb5e-51f9-4985-93b5-a4271798f4a6",
   "metadata": {},
   "source": [
    "## Compute soil detachment using USLE3D\n",
    "\n",
    "**Compute topographic potential (LS factor)**\n",
    "\n",
    "Compare impact of the power function exponents on the erosion pattern."
   ]
  },
  {
   "cell_type": "code",
   "execution_count": null,
   "id": "471d065c-4d73-4f32-ad2f-6af0086f49dd",
   "metadata": {},
   "outputs": [],
   "source": [
    "%%bash\n",
    "\n",
    "g.region raster=elev_lid792_1m -p\n",
    "r.slope.aspect elevation=elev_lid792_1m slope=slope_1m aspect=aspect_1m\n",
    "r.flow elevation=elev_lid792_1m flowaccumulation=flowacc_1m\n",
    "r.mapcalc \"lsfac3d_1m = 1.2 * pow(flowacc_1m * 1./22.1,0.2) * pow(sin(slope_1m)/0.09,1.3)\"\n",
    "r.mapcalc \"lsfac3d_s1_1m = 1.5 * pow(flowacc_1m * 1./22.1,0.5) * pow(sin(slope_1m)/0.09,1.0)\"\n",
    "r.colors lsfac3d_s1_1m color=gyr -e\n",
    "r.colors lsfac3d_1m raster=lsfac3d_s1_1m"
   ]
  },
  {
   "cell_type": "markdown",
   "id": "6c4f3953-d53d-4f71-927e-b76b3104e2d7",
   "metadata": {},
   "source": [
    "<div class=\"alert alert-block alert-info\">\n",
    "\n",
    "### Question: Which equation represents conditions when contributing area has greater impact and which models stronger influence of slope? "
   ]
  },
  {
   "cell_type": "markdown",
   "id": "0545b8a3-84fe-4a13-80dd-178da1535142",
   "metadata": {},
   "source": [
    "...Write your response here..."
   ]
  },
  {
   "cell_type": "markdown",
   "id": "45fbcb1d-3512-418f-8b51-a4ed39056f95",
   "metadata": {},
   "source": [
    "Display layers and save outputs"
   ]
  },
  {
   "cell_type": "code",
   "execution_count": null,
   "id": "508617ca-c6e6-45fb-9f57-69e14e1a41ee",
   "metadata": {
    "scrolled": true
   },
   "outputs": [],
   "source": [
    "# Create Map instance\n",
    "lsfac_s13_map = gj.Map(height=600, width=600, use_region=True, filename=\"output/lsfac_s13.png\")\n",
    "\n",
    "# Add raster layers\n",
    "lsfac_s13_map.d_rast(map=\"lsfac3d_1m\")\n",
    "\n",
    "\n",
    "# Add vector layers\n",
    "lsfac_s13_map.d_vect(map=\"elev_lid792_cont1m\")\n",
    "\n",
    "# Add map properties\n",
    "lsfac_s13_map.d_legend(raster=\"lsfac3d_1m\", at=\"12,50,6,10\", flags=\"b\")\n",
    "lsfac_s13_map.d_barscale(at=[4,9], flags=\"n\")\n",
    "\n",
    "# Display map\n",
    "lsfac_s13_map.show()"
   ]
  },
  {
   "cell_type": "code",
   "execution_count": null,
   "id": "064f5d17-42d4-4cd7-8cf1-4c58557cf6f4",
   "metadata": {},
   "outputs": [],
   "source": [
    "# Create Map instance\n",
    "lsfac_s10_map = gj.Map(height=600, width=600, use_region=True, filename=\"output/lsfac_s10.png\")\n",
    "\n",
    "# Add raster layers\n",
    "lsfac_s10_map.d_rast(map=\"lsfac3d_s1_1m\")\n",
    "\n",
    "\n",
    "# Add vector layers\n",
    "lsfac_s10_map.d_vect(map=\"elev_lid792_cont1m\")\n",
    "\n",
    "# Add map properties\n",
    "lsfac_s10_map.d_legend(raster=\"lsfac3d_s1_1m\", at=\"12,50,6,10\", flags=\"b\")\n",
    "lsfac_s10_map.d_barscale(at=[4,9], flags=\"n\")\n",
    "\n",
    "# Display map\n",
    "lsfac_s10_map.show()"
   ]
  },
  {
   "cell_type": "markdown",
   "id": "6f105b34-731f-4a1f-98c1-41919231c889",
   "metadata": {},
   "source": [
    "## Compute soil detachment for spatially variable land cover\n",
    "\n",
    "Set region to rural area and recode `landcover_1m` to `cfactor` using the r.recode module. Assign special color table and display result."
   ]
  },
  {
   "cell_type": "code",
   "execution_count": null,
   "id": "b89fcb81-b4fe-4755-a593-0d3b8baca350",
   "metadata": {},
   "outputs": [],
   "source": [
    "%%bash\n",
    "\n",
    "g.region rural_1m -p\n",
    "r.recode landcover_1m output=cfactor_1m rules=inputs/cfac_rules.txt\n",
    "r.colors map=cfactor_1m rules=inputs/cfac_color.txt"
   ]
  },
  {
   "cell_type": "code",
   "execution_count": null,
   "id": "c0f824d9-53e1-4cc2-85b3-aaf6f7ac7d1f",
   "metadata": {},
   "outputs": [],
   "source": [
    "# Create Map instance\n",
    "cfactor_1m_map = gj.Map(height=600, width=600, use_region=True)\n",
    "\n",
    "# Add raster layers\n",
    "cfactor_1m_map.d_rast(map=\"cfactor_1m\")\n",
    "\n",
    "# Add map properties\n",
    "cfactor_1m_map.d_legend(raster=\"cfactor_1m\", at=\"12,50,6,10\", flags=\"b\")\n",
    "cfactor_1m_map.d_barscale(at=[4,9], flags=\"n\")\n",
    "\n",
    "# Display map\n",
    "cfactor_1m_map.show()"
   ]
  },
  {
   "cell_type": "markdown",
   "id": "7e993d26-ce2c-4518-adae-cca8aa135a92",
   "metadata": {},
   "source": [
    "Compute the USLE3D equation using map algebra, `cfactorbare_1m` is the same as `cfactor_1m`, `cfactorgrow_1m` has landuse recoded for summer conditions.\n",
    "Specify units of the raster maps using the [r.support](https://grass.osgeo.org/grass83/manuals/r.support.html) module."
   ]
  },
  {
   "cell_type": "code",
   "execution_count": null,
   "id": "33e0fe61-ddfd-456e-9d83-2f86f7370c58",
   "metadata": {},
   "outputs": [],
   "source": [
    "%%bash\n",
    "\n",
    "r.mapcalc \"soillossbare_1m = 270. * soils_Kfactor * lsfac3d_1m * cfactorbare_1m\"\n",
    "r.mapcalc \"soillossgrow_1m = 270. * soils_Kfactor * lsfac3d_1m * cfactorgrow_1m\"\n",
    "r.colors soillossbare_1m rules=inputs/soilloss_color.txt\n",
    "r.colors soillossgrow_1m raster=soillossbare_1m\n",
    "r.support map=soillossbare_1m units=\"ton/(acre.year)\"\n",
    "r.support map=soillossgrow_1m units=\"ton/(acre.year)\""
   ]
  },
  {
   "cell_type": "markdown",
   "id": "a2982552-54b0-4db0-aae5-23c4a1cec0c8",
   "metadata": {},
   "source": [
    "<div class=\"alert alert-block alert-info\">\n",
    "\n",
    "### Task: Compare erosion rates and distribution for winter (bare) and summer conditions. "
   ]
  },
  {
   "cell_type": "code",
   "execution_count": null,
   "id": "ba5987fa-014d-4c35-9d1e-3b3a2f197672",
   "metadata": {},
   "outputs": [],
   "source": [
    "%%bash\n",
    "## Add your code here"
   ]
  },
  {
   "cell_type": "markdown",
   "id": "08cc7336-c08a-41c1-8f71-f0ce1fa0b28e",
   "metadata": {},
   "source": [
    "Display the bare soil loss map"
   ]
  },
  {
   "cell_type": "code",
   "execution_count": null,
   "id": "d6f0070a-f3b4-4152-b145-dd5ff0929b75",
   "metadata": {},
   "outputs": [],
   "source": [
    "# Create Map instance\n",
    "soillossbare_map = gj.Map(height=600, width=600, use_region=True, filename=\"output/soillossbare.png\")\n",
    "\n",
    "# Add raster layers\n",
    "soillossbare_map.d_rast(map=\"soillossbare_1m\")\n",
    "\n",
    "# Add map properties\n",
    "soillossbare_map.d_legend(raster=\"soillossbare_1m\", at=\"12,50,6,10\", flags=\"b\")\n",
    "soillossbare_map.d_barscale(at=[4,9], flags=\"n\")\n",
    "\n",
    "# Display map\n",
    "soillossbare_map.show()"
   ]
  },
  {
   "cell_type": "markdown",
   "id": "e8d8353e-6ef4-4625-9a92-2d6b007af052",
   "metadata": {},
   "source": [
    "Calculate the univariate statistics."
   ]
  },
  {
   "cell_type": "code",
   "execution_count": null,
   "id": "8c6e122c-a190-4d11-bdf8-dcb583d04265",
   "metadata": {},
   "outputs": [],
   "source": [
    "%%bash\n",
    "r.univar soillossbare_1m"
   ]
  },
  {
   "cell_type": "markdown",
   "id": "a9953dd0-8085-4d34-9553-64591c9560ee",
   "metadata": {},
   "source": [
    "Display the soil loss map during the for the summer grow season."
   ]
  },
  {
   "cell_type": "code",
   "execution_count": null,
   "id": "e8520119-64d8-4838-b0c0-797da80565a6",
   "metadata": {},
   "outputs": [],
   "source": [
    "# Create Map instance\n",
    "soillosgrow_map = gj.Map(height=600, width=600, use_region=True, filename=\"output/soillosgrow.png\")\n",
    "\n",
    "# Add raster layers\n",
    "soillosgrow_map.d_rast(map=\"soillossgrow_1m\")\n",
    "\n",
    "# Add map properties\n",
    "soillosgrow_map.d_legend(raster=\"soillossgrow_1m\", at=\"12,50,6,10\", flags=\"b\")\n",
    "soillosgrow_map.d_barscale(at=[4,9], flags=\"n\")\n",
    "\n",
    "# Display map\n",
    "soillosgrow_map.show()"
   ]
  },
  {
   "cell_type": "markdown",
   "id": "5e84159c-c48d-4997-8811-1773e79daf91",
   "metadata": {},
   "source": [
    "Calculate the univariate statistics."
   ]
  },
  {
   "cell_type": "code",
   "execution_count": null,
   "id": "98e871b4-034b-494e-be8c-f9de10b10bdd",
   "metadata": {},
   "outputs": [],
   "source": [
    "%%bash\n",
    "r.univar soillossgrow_1m"
   ]
  },
  {
   "cell_type": "markdown",
   "id": "08ad2056-2e6e-48af-bdd8-c9c17724e55e",
   "metadata": {},
   "source": [
    "## Compute new DEM with erosion carved-in"
   ]
  },
  {
   "cell_type": "code",
   "execution_count": null,
   "id": "bbdb4142-0634-4cdb-b396-f8961c7d033a",
   "metadata": {},
   "outputs": [],
   "source": [
    "%%bash\n",
    "\n",
    "r.mapcalc \"elev_erodedb_1m = elev_lid792_1m-(soillossbare_1m/100.)\""
   ]
  },
  {
   "cell_type": "markdown",
   "id": "75be7724-bde4-4f4d-88be-2791af48361e",
   "metadata": {},
   "source": [
    "Display `elev_erodedb_1m` in 3D and drape over `soillossbare_1m` as color.\n",
    "To view it in 3D switch off everything except `elev_erodedb_1m`.\n",
    "Drape `soillossbare_1m` as color and don't forget to set fine resolution to 1.\n",
    "Use lighting from SW, z-exag at least 2.0"
   ]
  },
  {
   "cell_type": "code",
   "execution_count": null,
   "id": "4f5762fa-83bd-4899-8a0d-f95a389a652f",
   "metadata": {},
   "outputs": [],
   "source": [
    "elev_erodedb_1m_3dmap = gj.Map3D(filename=\"output/elev_erodedb_1m.png\")\n",
    "# Full list of options m.nviz.image\n",
    "# https://grass.osgeo.org/grass83/manuals/m.nviz.image.html\n",
    "elev_erodedb_1m_3dmap.render(\n",
    "    elevation_map=\"elev_erodedb_1m\",\n",
    "    color_map=\"soillossbare_1m\",\n",
    "    perspective=20,\n",
    "    height=1300,\n",
    "    zexag=2,\n",
    "    light_position=\"-1,-1,0.5\",\n",
    "    fringe=['ne','nw','sw','se'],\n",
    "    arrow_position=[100,50],\n",
    ")\n",
    "elev_erodedb_1m_3dmap.overlay.d_legend(\n",
    "    raster=\"soillossbare_1m\",\n",
    "    at=(40, 80, 85, 90),\n",
    "    title_fontsize=12,\n",
    "    fontsize=12\n",
    ")\n",
    "\n",
    "elev_erodedb_1m_3dmap.overlay.d_barscale(at=(60, 97, 87, 92))\n",
    "\n",
    "elev_erodedb_1m_3dmap.show()"
   ]
  },
  {
   "cell_type": "markdown",
   "id": "fb260948-1de3-40b3-bd57-e376e29416e3",
   "metadata": {},
   "source": [
    "## Compute net erosion/deposition maps (using USPED)\n",
    "\n",
    "Compute net erosion/deposition maps as divergence of sediment flow (USPED).\n",
    "\n",
    "First compute sediment flow"
   ]
  },
  {
   "cell_type": "code",
   "execution_count": null,
   "id": "f4389e92-f605-4d56-b5cd-caf930a70564",
   "metadata": {},
   "outputs": [],
   "source": [
    "%%bash\n",
    "\n",
    "r.mapcalc \"sedflow_1m = 270. * soils_Kfactor * cfactorgrow_1m * flowacc_1m * sin(slope_1m)\"\n",
    "r.colors sedflow_1m raster=soillossbare_1m"
   ]
  },
  {
   "cell_type": "code",
   "execution_count": null,
   "id": "38f74b24-a94b-4a51-b80a-558ffa8609c9",
   "metadata": {},
   "outputs": [],
   "source": [
    "# Create Map instance\n",
    "sedflow_1m_map = gj.Map(height=600, width=600, use_region=True, filename=\"output/sedflow_1m.png\")\n",
    "\n",
    "# Add raster layers\n",
    "sedflow_1m_map.d_rast(map=\"sedflow_1m\")\n",
    "\n",
    "# Add map properties\n",
    "sedflow_1m_map.d_legend(raster=\"sedflow_1m\", at=\"12,50,6,10\", flags=\"b\")\n",
    "sedflow_1m_map.d_barscale(at=[4,9], flags=\"n\")\n",
    "\n",
    "# Display map\n",
    "sedflow_1m_map.show()"
   ]
  },
  {
   "cell_type": "markdown",
   "id": "926aa808-a37a-4590-81b7-9e59302e19a0",
   "metadata": {},
   "source": [
    "Now compute its components in x, y directions"
   ]
  },
  {
   "cell_type": "code",
   "execution_count": null,
   "id": "a505ce5d-43de-4bd5-9e58-2ff50064b692",
   "metadata": {},
   "outputs": [],
   "source": [
    "%%bash\n",
    "\n",
    "r.mapcalc \"qsx = sedflow_1m * cos(aspect_1m)\"\n",
    "r.mapcalc \"qsy = sedflow_1m * sin(aspect_1m)\""
   ]
  },
  {
   "cell_type": "markdown",
   "id": "0bf07862-d65d-48d3-8b92-fcda174a933d",
   "metadata": {},
   "source": [
    "Compute change of sediment flow in the x and y directions and then change in the direction of flow using divergence."
   ]
  },
  {
   "cell_type": "code",
   "execution_count": null,
   "id": "23b0c591-ab7b-4264-96c5-fe2f72dd4dcc",
   "metadata": {},
   "outputs": [],
   "source": [
    "%%bash\n",
    "\n",
    "r.slope.aspect elevation=qsx dx=qsx_dx\n",
    "r.slope.aspect elevation=qsy dy=qsy_dy\n",
    "r.mapcalc \"erdep = qsx_dx + qsy_dy\"\n",
    "r.info -r erdep\n",
    "r.colors erdep rules=inputs/erdep_color.txt"
   ]
  },
  {
   "cell_type": "code",
   "execution_count": null,
   "id": "ec9ca2f1-3bcb-479d-81d5-6b2207cd9737",
   "metadata": {},
   "outputs": [],
   "source": [
    "# Create Map instance\n",
    "erdep_map = gj.Map(height=600, width=600, use_region=True, filename=\"output/erdep.png\")\n",
    "\n",
    "# Add raster layers\n",
    "erdep_map.d_rast(map=\"erdep\")\n",
    "\n",
    "# Add map properties\n",
    "erdep_map.d_legend(raster=\"erdep\", at=\"12,50,6,10\", flags=\"b\", range=\"-100,100\")\n",
    "erdep_map.d_barscale(at=[4,9], flags=\"n\")\n",
    "\n",
    "# Display map\n",
    "erdep_map.show()"
   ]
  },
  {
   "cell_type": "markdown",
   "id": "9abf6a25-33b0-4719-8eb0-d7e26b634c29",
   "metadata": {},
   "source": [
    "<div class=\"alert alert-block alert-info\">\n",
    "\n",
    "### Task: Display elev_lid792_1m in 3D and drape over erdep as color (switch off all layers except for elev_lid792_1m)."
   ]
  },
  {
   "cell_type": "code",
   "execution_count": null,
   "id": "b094f36b-3e94-4f47-b13f-4576f354f964",
   "metadata": {},
   "outputs": [],
   "source": [
    "## Add your code here"
   ]
  },
  {
   "cell_type": "markdown",
   "id": "fd8a34a5-f567-4951-a659-bfafdb2710b9",
   "metadata": {},
   "source": [
    "## Compute summary statistics\n",
    "\n",
    "Use [r.recode](https://grass.osgeo.org/grass76/manuals/r.recode.html) to classify erosion/deposition and [r.category](https://grass.osgeo.org/grass76/manuals/r.category.html) to add labels (stable, high erosion, etc) to individual categories: \n",
    "\n",
    "Example output: \n",
    "\n",
    "```\n",
    "[...]\n",
    "| #| description         |  %  | hectares |  acres  |\n",
    "|-4| severe erosion . . .| 0.19|  0.101300|  0.25031|\n",
    "|-3| high erosion . . . .| 1.34|  0.701600|  1.73365|\n",
    "|-2| moderate erosion . .| 3.89|  2.042600|  5.04726|\n",
    "|-1| low erosion . . . . |19.74| 10.366000| 25.61438|\n",
    "| 0| stable . . . . . . .|61.32| 32.192000| 79.54643|\n",
    "| 1| low deposition . . .| 8.40|  4.407600| 10.89118|\n",
    "| 2| moderate deposition | 2.49|  1.307500|  3.23083|\n",
    "| 3| high deposition . . | 1.29|  0.676900|  1.67262|\n",
    "| 4| severe deposition . | 0.24|  0.126100|  0.31159|\n",
    "| *|no data. . . . . . . | 1.10|  0.578400|  1.42922|\n",
    "|---------------------------------------------------|\n",
    "|TOTAL                   |100.00| 52.500000|129.7275|\n",
    "```"
   ]
  },
  {
   "cell_type": "code",
   "execution_count": null,
   "id": "e48c87c3-2d63-4f3e-9875-d3158fa721f3",
   "metadata": {},
   "outputs": [],
   "source": [
    "%%bash\n",
    "\n",
    "r.recode erdep output=erdep_class rules=inputs/erdep_class.txt\n",
    "r.category erdep_class rules=inputs/erdep_label.txt sep=:\n",
    "r.report erdep_class unit=p,h,a"
   ]
  },
  {
   "cell_type": "markdown",
   "id": "bedcd078-cfb4-4a53-989d-af6122a9f512",
   "metadata": {},
   "source": [
    "<div class=\"alert alert-block alert-info\">\n",
    "\n",
    "### Question: What are the advantages, disadvantages and risks of classifying erosion/deposition data into categories?"
   ]
  },
  {
   "cell_type": "markdown",
   "id": "9f4dd6ed-79f2-423a-859e-12cb1286328d",
   "metadata": {},
   "source": [
    "...Write your response here..."
   ]
  },
  {
   "cell_type": "markdown",
   "id": "ec4c5102-89a7-4e8e-96a4-34e72e84fa06",
   "metadata": {},
   "source": [
    "Compute univariate statistics: "
   ]
  },
  {
   "cell_type": "code",
   "execution_count": null,
   "id": "4b18d908-c28d-4794-8fc2-0d71ba9a4de7",
   "metadata": {},
   "outputs": [],
   "source": [
    "%%bash\n",
    "r.univar erdep"
   ]
  },
  {
   "cell_type": "markdown",
   "id": "ec3536cb-e5e6-4f08-bfcb-c89811b265c4",
   "metadata": {},
   "source": [
    "> Look for line with sum: **-2374.473814**\n",
    "\n",
    "The units are tons/(acre.year), but our cells are 1 m2. Therefore we have to divide by 4046 (1 acre = 4046 m2) to get total ton per year transported from the watershed. You can use the Python shell in the Python tab do the division. "
   ]
  }
 ],
 "metadata": {
  "kernelspec": {
   "display_name": "Python 3 (ipykernel)",
   "language": "python",
   "name": "python3"
  },
  "language_info": {
   "codemirror_mode": {
    "name": "ipython",
    "version": 3
   },
   "file_extension": ".py",
   "mimetype": "text/x-python",
   "name": "python",
   "nbconvert_exporter": "python",
   "pygments_lexer": "ipython3",
   "version": "3.10.12"
  }
 },
 "nbformat": 4,
 "nbformat_minor": 5
}
