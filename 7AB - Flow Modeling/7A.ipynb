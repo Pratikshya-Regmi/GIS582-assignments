{
 "cells": [
  {
   "cell_type": "markdown",
   "id": "cac8208b-6a71-4e37-bce6-dda8bde69669",
   "metadata": {},
   "source": [
    "# NCSU GIS 582: Geospatial Modeling and Analysis\n",
    "\n",
    "## Flow Modeling: Flow routing, watershed analysis\n",
    "\n",
    "### Outline:\n",
    "\n",
    "- cumulative terrain parameters based on flow tracing: definitions and general approach (flow path length, flow accumulation, stream networks, watershed boundaries, ridge lines)\n",
    "- methods for computing flow direction (D8, Dinf), flow tracing (SFD, MFD, uniform, weighted)\n",
    "- methods for flow tracing through depressions and flat areas (filling, carving, hybrid, least cost path)\n",
    "- principle of stream extraction from a DEM and watershed delineation\n",
    "\n",
    "### Lecture:\n",
    "[Lecture slides: Flow routing and watershed analysis](https://ncsu-geoforall-lab.github.io/geospatial-modeling-course/lectures/flow.html)\n",
    "\n",
    "### Supplemental materials:\n",
    "* [GRASS GIS overview and manual](http://grass.osgeo.org/grass74/manuals/index.html)\n",
    "* [GRASS book](http://www.grassbook.org/)\n",
    "\n",
    "* Surface Water Flow Modeling chapter from Petrasova et al., 2018, Tangible Modeling with Open Source GIS. Second Edition. Springer. [Available free through NCSU library](https://link-springer-com.prox.lib.ncsu.edu/book/10.1007/978-3-319-89303-7). or through [Springer](https://link.springer.com/book/10.1007%2F978-3-319-89303-7).\n",
    "* [Metz, M. et al. (2011) Efficient extraction of drainage networks from massive, radar-based elevation models with least cost path search, Hydrology and Earth System Sciences 15, pp. 667-678.](https://www.hydrol-earth-syst-sci.net/15/667/2011/hess-15-667-2011.html)\n",
    "* [J Jasiewicz, M Metz, 2011: A new GRASS GIS toolkit for Hortonian analysis of drainage networks, Computers and Geosciences.https://doi.org/10.1016/j.cageo.2011.03.003](https://www.sciencedirect.com/science/article/pii/S0098300411000975?via%3Dihub)\n",
    "* [Nobre et al. 2011, Height Above the Nearest Drainage – a hydrologically relevant new terrain model, Journal of Hydrology,404(1-2), p. 13-29.](https://www.sciencedirect.com/science/article/pii/S0022169411002599?via%3Dihub)\n",
    "\n",
    "## Getting Starting with Jupyter Notebooks\n",
    "\n",
    "Each window in a Jupyter notebooks is called a `cell`. Each cell in the notebook can include different code that can be run using `Shift + Enter` or clicking the run button (play icon). In this notebook the cells include bash commands indicated by `%%bash` at the top of the cell, python, and markdown. \n",
    "\n",
    "The assignment is layed out so that you can run each cell in order to run GRASS GIS modules and visualize outputs with GRASS Jupyter (python). While you are working through the assignment you will see `questions` and `tasks` that you must respond to in the cell directly under the question or task indicated by **...Write your response here...** or **# Add your code here**. The question response cells are Markdown cells and the task response cells are bash cells where you can include and run your own GRASS commands.\n"
   ]
  },
  {
   "cell_type": "markdown",
   "id": "174688a5-0cef-4962-83c0-504f9fad9c1d",
   "metadata": {},
   "source": [
    "## Start GRASS GIS"
   ]
  },
  {
   "cell_type": "markdown",
   "id": "241683b2-bd87-4f8b-9ea7-ec9fbe86efba",
   "metadata": {},
   "source": [
    "Create a new mapset to run your analysis."
   ]
  },
  {
   "cell_type": "code",
   "execution_count": null,
   "id": "094358af-4e26-48e8-ad15-8bc13b0c9d1d",
   "metadata": {},
   "outputs": [],
   "source": [
    "%%bash\n",
    "grass -e -c ~/grassdata/nc_spm_08_grass7/HW_7A_Flow_Modeling"
   ]
  },
  {
   "cell_type": "markdown",
   "id": "50eaf9f8-3349-4d66-a195-7d021ab13938",
   "metadata": {},
   "source": [
    "Create the `output` directory to save your maps."
   ]
  },
  {
   "cell_type": "code",
   "execution_count": null,
   "id": "6bb539f5-016c-48d4-8105-03df4d8ac510",
   "metadata": {},
   "outputs": [],
   "source": [
    "%%bash\n",
    "mkdir output"
   ]
  },
  {
   "cell_type": "markdown",
   "id": "a46b9ead-2d49-4bd1-b26b-1d37ec76a641",
   "metadata": {},
   "source": [
    "We are now setting up our python environment so we can visualize our data with GRASS Jupyter."
   ]
  },
  {
   "cell_type": "code",
   "execution_count": null,
   "id": "0f9ff57b-8ca4-4363-b1d1-b335540acb30",
   "metadata": {},
   "outputs": [],
   "source": [
    "import subprocess\n",
    "import sys\n",
    "\n",
    "# Ask GRASS GIS where its Python packages are.\n",
    "# FOR WINDOWS:\n",
    "# grass_call = \"grass80\"\n",
    "# shell_setting = True\n",
    "# FOR MAC/LINUX\n",
    "grass_call = \"grass\"\n",
    "shell_setting = False\n",
    "\n",
    "sys.path.append(\n",
    "    subprocess.check_output([grass_call, \"--config\", \"python_path\"], text=True, shell=shell_setting).strip()\n",
    ")\n",
    "\n",
    "# Import GRASS packages\n",
    "import grass.script as gs\n",
    "import grass.jupyter as gj\n",
    "\n",
    "# Start GRASS Session\n",
    "gj.init(\"~/grassdata\", \"nc_spm_08_grass7\", \"HW_7A_Flow_Modeling\")\n"
   ]
  },
  {
   "cell_type": "markdown",
   "id": "4d560814-c196-45cb-af8e-b62d7cd80ed0",
   "metadata": {},
   "source": [
    "## Compute flow direction, flow accumulation and subwatersheds\n",
    "\n",
    "Compute flow direction, flow accumulation and subwatersheds with approx. size of 10000 cells from 30m NED."
   ]
  },
  {
   "cell_type": "code",
   "execution_count": null,
   "id": "df820bfc-6573-4c42-b522-58660b32d813",
   "metadata": {},
   "outputs": [],
   "source": [
    "%%bash\n",
    "g.region raster=elev_ned_30m -p\n",
    "r.watershed -s elevation=elev_ned_30m threshold=10000 accumulation=accum_10K drainage=draindir_10K basin=basin_10K --quiet"
   ]
  },
  {
   "cell_type": "markdown",
   "id": "15293148-e791-4e73-89ab-f412a571905a",
   "metadata": {},
   "source": [
    "Extract more detailed streams from flow accumulation raster: "
   ]
  },
  {
   "cell_type": "code",
   "execution_count": null,
   "id": "f5695141-50af-4dc1-b00f-b7d81b9db035",
   "metadata": {},
   "outputs": [],
   "source": [
    "%%bash\n",
    "\n",
    "r.mapcalc \"streams_der_30m = if(abs(accum_10K) > 100, 1, null())\""
   ]
  },
  {
   "cell_type": "markdown",
   "id": "7477b459-e7c9-4a6b-86d3-309ef64af9f6",
   "metadata": {},
   "source": [
    "Convert to vector format and display results along with the official Wake county streams (red): "
   ]
  },
  {
   "cell_type": "code",
   "execution_count": null,
   "id": "b5dc59e6-f026-4a43-9808-2184e0fa5b4b",
   "metadata": {},
   "outputs": [],
   "source": [
    "%%bash\n",
    "r.to.vect -s basin_10K output=basin_10K type=area --quiet\n",
    "r.thin streams_der_30m output=streams_der_30m_t --quiet\n",
    "r.to.vect -s streams_der_30m_t out=streams_der_30m type=line --quiet"
   ]
  },
  {
   "cell_type": "markdown",
   "id": "86e94054-590b-4ee9-b728-e7fc9dd51dbb",
   "metadata": {},
   "source": [
    "Generate shaded map and display:"
   ]
  },
  {
   "cell_type": "code",
   "execution_count": null,
   "id": "612f37cb-2238-4f91-b68f-0a8c3c32094a",
   "metadata": {},
   "outputs": [],
   "source": [
    "# Create Map instance\n",
    "mystream_map = gj.Map(height=600, width=600, filename=\"output/mystream.png\")\n",
    "# Add the elevation raster to the map\n",
    "mystream_map.d_rast(map=\"lakes\")\n",
    "mystream_map.d_vect(map=\"streams_der_30m\", color=\"blue\")\n",
    "mystream_map.d_vect(map=\"streams\", color=\"red\")\n",
    "mystream_map.d_legend_vect(at=[72,17], flags=\"b\")\n",
    "mystream_map.d_barscale(at=[55,5], flags=\"n\")\n",
    "\n",
    "# Display map\n",
    "mystream_map.show()"
   ]
  },
  {
   "cell_type": "markdown",
   "id": "ccf24d08-de3e-46aa-a6c6-9782de007740",
   "metadata": {},
   "source": [
    "<div class=\"alert alert-block alert-info\">\n",
    "    \n",
    "### Question: How do the derived streams compare with the official stream map?"
   ]
  },
  {
   "cell_type": "markdown",
   "id": "bf92e613-3cd1-4dac-9c33-e82b6d7d0501",
   "metadata": {},
   "source": [
    "...Write your response here..."
   ]
  },
  {
   "cell_type": "markdown",
   "id": "768f9871-13db-4b9e-b9b2-e7269c54ba76",
   "metadata": {},
   "source": [
    "<div class=\"alert alert-block alert-info\">\n",
    "\n",
    "### Task: Modify the mapcalc expression to make stream origins fit better with the official stream map."
   ]
  },
  {
   "cell_type": "code",
   "execution_count": null,
   "id": "59ecfcdf-c1af-4fb6-b78c-c915f49d88e8",
   "metadata": {},
   "outputs": [],
   "source": [
    "%%bash\n",
    "# Add your code here\n",
    "# Original expression: r.mapcalc \"streams_der_30m = if(abs(accum_10K) > 100, 1, null())\""
   ]
  },
  {
   "cell_type": "markdown",
   "id": "7629b062-b784-4101-b434-8974f4a9920f",
   "metadata": {},
   "source": [
    "<div class=\"alert alert-block alert-info\">\n",
    "\n",
    "### Question: Why does your modification make the stream orgins fit better with the offical stream map?"
   ]
  },
  {
   "cell_type": "markdown",
   "id": "16727068-3b99-4794-8e06-7fab4f047f2b",
   "metadata": {},
   "source": [
    "...Write your response here..."
   ]
  },
  {
   "cell_type": "markdown",
   "id": "c05852d9-63ad-4e41-b480-1821f3ed12ae",
   "metadata": {},
   "source": [
    "## Create map of DEM depressions\n",
    "\n",
    "Depression filling is often necessary for certain flow routing algorithms but it can alter the elevation data significantly. Find out how extensive the depressions are in our DEM. \\\n",
    "\n",
    "> Note that [r.watershed](https://grass.osgeo.org/grass83/manuals/r.watershed.html) doesn't need any depression filling thanks to its underlying algorithm which uses least cost path to get over depressions."
   ]
  },
  {
   "cell_type": "code",
   "execution_count": null,
   "id": "95757ca9-dbce-4e09-810e-84150f32b0f4",
   "metadata": {},
   "outputs": [],
   "source": [
    "%%bash\n",
    "g.region raster=elevation -p\n",
    "r.fill.dir input=elevation output=elev_fill1 direction=dir1 areas=unres1\n",
    "r.fill.dir input=elev_fill1 output=elev_fill2 direction=dir2 areas=unres2\n",
    "r.fill.dir input=elev_fill2 output=elev_fill3 direction=dir3 areas=unres3\n",
    "r.mapcalc \"depr_bin = if((elevation-elev_fill3) < 0., 1, null())\"\n",
    "r.colors depr_bin color=blues"
   ]
  },
  {
   "cell_type": "markdown",
   "id": "7d1b2e58-30b4-46a0-a584-ee99df6a4939",
   "metadata": {},
   "source": [
    "Display the new results, compare the derived depressions with actual lakes: "
   ]
  },
  {
   "cell_type": "code",
   "execution_count": null,
   "id": "274959c3-6ded-4666-9729-1f37487f3eaf",
   "metadata": {},
   "outputs": [],
   "source": [
    "# Create Map instance\n",
    "depressions_map = gj.Map(height=600, width=600, filename=\"output/depressions.png\")\n",
    "# Add the elevation raster to the map\n",
    "depressions_map.d_rast(map=\"elevation\")\n",
    "depressions_map.d_rast(map=\"depr_bin\")\n",
    "depressions_map.d_vect(map=\"lakes\", fill_color=\"blue\", type=\"area\")\n",
    "\n",
    "# Display map\n",
    "depressions_map.show()"
   ]
  },
  {
   "cell_type": "markdown",
   "id": "18b07bd9-3fb7-493c-a3d4-51227eb6dd1d",
   "metadata": {},
   "source": [
    "## Derive contributing area for a given outlet\n",
    "\n",
    "Set region to the high resolution study area and zoom to it: "
   ]
  },
  {
   "cell_type": "code",
   "execution_count": null,
   "id": "b7bc78ac-7d47-4599-a8f6-49e16cc9d683",
   "metadata": {},
   "outputs": [],
   "source": [
    "%%bash\n",
    "g.region rural_1m -p\n",
    "r.watershed -as elevation=elev_lid792_1m threshold=5000 accumulation=accum_5K drainage=draindir_5K basin=basin_5K --quiet"
   ]
  },
  {
   "cell_type": "code",
   "execution_count": null,
   "id": "20eef470-1ca9-4dde-9e18-43478d27ef4e",
   "metadata": {},
   "outputs": [],
   "source": [
    "# Create Map instance\n",
    "accum_5K_map = gj.Map(height=600, width=600, use_region=True)\n",
    "# Add the elevation raster to the map\n",
    "accum_5K_map.d_rast(map=\"ortho_2001_t792_1m\")\n",
    "accum_5K_map.d_rast(map=\"accum_5K\", values=\"1500-1000000\")\n",
    "\n",
    "# Display map\n",
    "accum_5K_map.show()"
   ]
  },
  {
   "cell_type": "markdown",
   "id": "7a2977e8-f7f2-43ef-8762-d0aef5855dd5",
   "metadata": {},
   "source": [
    "Identify outlet on the extracted stream.\n",
    "\n",
    "Create a vector map with the point east=638845.52 north=220085.26 that has accum_5K=224510. "
   ]
  },
  {
   "cell_type": "code",
   "execution_count": null,
   "id": "5a0120a1-5d27-440c-bc9e-8ab1414d824f",
   "metadata": {},
   "outputs": [],
   "source": [
    "%%bash\n",
    "v.in.ascii ./inputs/outlet_point.txt output=outletA30 separator=space"
   ]
  },
  {
   "cell_type": "markdown",
   "id": "679ec6d5-82a2-41e4-8c36-c31baac7f768",
   "metadata": {},
   "source": [
    "Display the outlet on the map."
   ]
  },
  {
   "cell_type": "code",
   "execution_count": null,
   "id": "b2103272-7da0-42b0-889c-698d6a1aa9e9",
   "metadata": {},
   "outputs": [],
   "source": [
    "accum_5K_map.d_vect(map=\"outletA30\", fill_color=\"yellow\", type=\"point\", icon=\"basic/circle\", size=10)\n",
    "accum_5K_map.show()"
   ]
  },
  {
   "cell_type": "markdown",
   "id": "33f76c08-80fa-42c5-a594-1b0934e569ea",
   "metadata": {},
   "source": [
    "Delineate the contributing area associated with this outlet and convert it to vector format: "
   ]
  },
  {
   "cell_type": "code",
   "execution_count": null,
   "id": "78497383-a126-42e9-b29f-2a01f78ae6e5",
   "metadata": {},
   "outputs": [],
   "source": [
    "%%bash\n",
    "r.water.outlet input=draindir_5K output=basin_A30 coordinates=638845.52,220085.26\n",
    "r.to.vect -s basin_A30 output=basin_A30 type=area --quiet"
   ]
  },
  {
   "cell_type": "markdown",
   "id": "b8275fd7-d1f8-4104-913a-f8c3208ea4ec",
   "metadata": {},
   "source": [
    "Display watershed boundary along with contours."
   ]
  },
  {
   "cell_type": "code",
   "execution_count": null,
   "id": "c3c9893c-ac5e-445c-8bbf-4d193203a756",
   "metadata": {},
   "outputs": [],
   "source": [
    "%%bash\n",
    "r.contour elev_lid792_1m output=elev_lid792_cont_1m step=1 minlevel=104 --quiet"
   ]
  },
  {
   "cell_type": "code",
   "execution_count": null,
   "id": "b99634d5-da56-47b8-8d2c-9b33fe3e34cd",
   "metadata": {},
   "outputs": [],
   "source": [
    "# Create Map instance\n",
    "accum_5K_map = gj.Map(height=600, width=600, use_region=True, filename=\"output/watershedA30.png\")\n",
    "# Add the elevation raster to the map\n",
    "accum_5K_map.d_rast(map=\"ortho_2001_t792_1m\")\n",
    "accum_5K_map.d_rast(map=\"accum_5K\", values=\"1500-1000000\")\n",
    "accum_5K_map.d_vect(map=\"outletA30\", fill_color=\"yellow\", type=\"point\", icon=\"basic/circle\", size=10)\n",
    "accum_5K_map.d_vect(map=\"basin_A30\", color=\"green\", type=\"boundary\",width=2)\n",
    "accum_5K_map.d_vect(map=\"elev_lid792_cont_1m\", color=\"white\")\n",
    "accum_5K_map.show()"
   ]
  },
  {
   "cell_type": "markdown",
   "id": "c7e0ce04-b51d-4415-a409-784ce370f5fd",
   "metadata": {},
   "source": [
    "Compute the watershed area (category 1)"
   ]
  },
  {
   "cell_type": "code",
   "execution_count": null,
   "id": "d3b8da2f-dedb-4b6a-b5ac-dc4d005067d7",
   "metadata": {},
   "outputs": [],
   "source": [
    "%%bash\n",
    "r.report basin_A30 unit=h,a"
   ]
  },
  {
   "cell_type": "markdown",
   "id": "89c3727b-8f6a-4469-a5f5-57e1cf032a00",
   "metadata": {},
   "source": [
    "<div class=\"alert alert-block alert-info\">\n",
    "\n",
    "### Question: What is the area of the watershed?"
   ]
  },
  {
   "cell_type": "markdown",
   "id": "4892df84-ec37-44fe-b2c3-a63d7dfd84be",
   "metadata": {},
   "source": [
    "...Write your response here..."
   ]
  },
  {
   "cell_type": "markdown",
   "id": "c758ef9f-b2e5-49f5-9daf-6a6acc1782fd",
   "metadata": {},
   "source": [
    "## Assess and mitigate impact of the road on flowrouting\n",
    "\n",
    "Compare the extracted streams (accum > 1500) with official stream data: "
   ]
  },
  {
   "cell_type": "code",
   "execution_count": null,
   "id": "cfd4bcfa-dd6a-4dc8-8585-5d347eea8eb0",
   "metadata": {},
   "outputs": [],
   "source": [
    "# Create Map instance\n",
    "streamcompare_map = gj.Map(height=600, width=600, use_region=True, filename=\"output/streamcompare.png\")\n",
    "\n",
    "# Add raster layers\n",
    "streamcompare_map.d_rast(map=\"ortho_2001_t792_1m\")\n",
    "streamcompare_map.d_rast(map=\"accum_5K\", values=\"1500-1000000\") # accum > 1500\n",
    "\n",
    "# Add vector layersfound\n",
    "streamcompare_map.d_vect(map=\"streets_wake\", color=\"red\")\n",
    "streamcompare_map.d_vect(map=\"streams\", color=\"green\")\n",
    "\n",
    "# Add map properties\n",
    "streamcompare_map.d_legend_vect(at=[5,25], flags=\"b\")\n",
    "streamcompare_map.d_barscale(at=[2,9], flags=\"n\")\n",
    "\n",
    "# Display map\n",
    "streamcompare_map.show()"
   ]
  },
  {
   "cell_type": "markdown",
   "id": "270adb4f-8989-4bb1-803a-92210fe1db94",
   "metadata": {},
   "source": [
    "Carve a pre-defined channel given by the stream data into DEM"
   ]
  },
  {
   "cell_type": "code",
   "execution_count": null,
   "id": "53a70921-a581-4258-8859-a4cdde5216c0",
   "metadata": {},
   "outputs": [],
   "source": [
    "%%bash\n",
    "r.carve raster=elev_lid792_1m vector=streams width=2 depth=0.8 output=elev_lidcarved_1m\n",
    "r.colors elev_lidcarved_1m raster=elev_lid792_1m"
   ]
  },
  {
   "cell_type": "markdown",
   "id": "a6111baf-e96b-43ab-a1cf-7e217b8b9a4e",
   "metadata": {},
   "source": [
    "Display carved DEM"
   ]
  },
  {
   "cell_type": "code",
   "execution_count": null,
   "id": "974a537e-6c8b-4605-a281-dc70bd4811c1",
   "metadata": {},
   "outputs": [],
   "source": [
    "# Create Map instance\n",
    "elev_lidcarved_1m_map = gj.Map(height=600, width=600, use_region=True)\n",
    "\n",
    "# Add raster layers\n",
    "elev_lidcarved_1m_map.d_rast(map=\"elev_lidcarved_1m\")\n",
    "\n",
    "# Add map properties\n",
    "elev_lidcarved_1m_map.d_barscale(at=[2,9], flags=\"n\")\n",
    "\n",
    "# Display map\n",
    "elev_lidcarved_1m_map.show()"
   ]
  },
  {
   "cell_type": "markdown",
   "id": "d8df902e-aa24-400b-af3a-52967be6e300",
   "metadata": {},
   "source": [
    "Extract streams from the carved DEM and compare with the official streams map."
   ]
  },
  {
   "cell_type": "code",
   "execution_count": null,
   "id": "421ddb72-cb9c-403f-8217-7a251182f315",
   "metadata": {},
   "outputs": [],
   "source": [
    "%%bash\n",
    "r.watershed -as elevation=elev_lidcarved_1m accumulation=accumc_5K1m --quiet"
   ]
  },
  {
   "cell_type": "code",
   "execution_count": null,
   "id": "aa83fdc4-ed06-4a75-aa80-47f6f6e1f64a",
   "metadata": {},
   "outputs": [],
   "source": [
    "# Create Map instance\n",
    "streamcarved_map = gj.Map(height=600, width=600, use_region=True, filename=\"output/streamcarved.png\")\n",
    "\n",
    "# Add raster layers\n",
    "streamcarved_map.d_rast(map=\"ortho_2001_t792_1m\")\n",
    "streamcarved_map.d_rast(map=\"accum_5K\", values=\"1500-1000000\") # accum > 1500\n",
    "streamcarved_map.d_rast(map=\"accumc_5K1m\", values=\"1500-1000000\") # accum > 1500\n",
    "\n",
    "# Add vector layers\n",
    "streamcarved_map.d_vect(map=\"streets_wake\", color=\"red\")\n",
    "streamcarved_map.d_vect(map=\"streams\", color=\"green\")\n",
    "\n",
    "# Add map properties\n",
    "streamcarved_map.d_legend_vect(at=[5,25], flags=\"b\")\n",
    "streamcarved_map.d_barscale(at=[2,9], flags=\"n\")\n",
    "\n",
    "# Display map\n",
    "streamcarved_map.show()"
   ]
  },
  {
   "cell_type": "markdown",
   "id": "a4600384-f570-4b59-a81f-e2cd91ad8b9c",
   "metadata": {},
   "source": [
    "<div class=\"alert alert-block alert-info\">\n",
    "\n",
    "## Question: What is the difference between accum_5K, accumc_5K1m and streams?"
   ]
  },
  {
   "cell_type": "markdown",
   "id": "628635ec-21a9-48b2-87af-a8db90254cb9",
   "metadata": {},
   "source": [
    "...Write your response here..."
   ]
  },
  {
   "cell_type": "markdown",
   "id": "f18268bb-2588-43c2-a191-3d7c06b5538d",
   "metadata": {},
   "source": [
    "<div class=\"alert alert-block alert-info\">\n",
    "\n",
    "## Question: Explain the advantage and disadvantage of carving."
   ]
  },
  {
   "cell_type": "markdown",
   "id": "27911d98-4743-42d1-bf22-c263b35517ba",
   "metadata": {},
   "source": [
    "...Write your response here..."
   ]
  },
  {
   "cell_type": "markdown",
   "id": "f8551a88-6dbe-4362-9607-586c77304370",
   "metadata": {},
   "source": [
    "## Compute refined flow pattern using D-inf\n",
    "\n",
    "Compare upslope and downslope flow lines:"
   ]
  },
  {
   "cell_type": "code",
   "execution_count": null,
   "id": "f41bed15-6bc8-4d7b-abff-e5b709ecde61",
   "metadata": {},
   "outputs": [],
   "source": [
    "%%bash\n",
    "g.region raster=elev_lid792_1m -p\n",
    "r.flow elevation=elev_lid792_1m flowline=flowlines flowlength=flowlg_1m flowaccumulation=flowacc_1m\n",
    "r.flow -u elevation=elev_lid792_1m flowlength=flowlgup_1m flowaccumulation=flowaccup_1m"
   ]
  },
  {
   "cell_type": "markdown",
   "id": "31484eb0-33a1-42cf-8c61-37dfd8675eb6",
   "metadata": {},
   "source": [
    "Display maps along with contours to see relation to terrain: "
   ]
  },
  {
   "cell_type": "markdown",
   "id": "420893b8-af86-4d88-a00f-943ab6e3a154",
   "metadata": {},
   "source": [
    "Display the downslope flowlines."
   ]
  },
  {
   "cell_type": "code",
   "execution_count": null,
   "id": "b6eeba36-f73f-4093-bde2-ac60ae03dc8f",
   "metadata": {},
   "outputs": [],
   "source": [
    "# Create Map instance\n",
    "flowdown_map = gj.Map(height=600, width=600, filename=\"output/flowdown.png\")\\\n",
    "\n",
    "flowdown_map.d_rast(map=\"flowacc_1m\")\n",
    "flowdown_map.d_vect(map=\"elev_lid792_cont_1m\", color=\"red\")\n",
    "flowdown_map.d_vect(map=\"flowlines\")\n",
    "\n",
    "# Display map\n",
    "flowdown_map.show()"
   ]
  },
  {
   "cell_type": "markdown",
   "id": "875f6842-db13-4d89-835a-862de54ef3a6",
   "metadata": {},
   "source": [
    "Display the upslope flowlines"
   ]
  },
  {
   "cell_type": "code",
   "execution_count": null,
   "id": "1a0844d2-27a3-4d69-aede-87d590ebbd1b",
   "metadata": {},
   "outputs": [],
   "source": [
    "flowlines_map = gj.Map(height=600, width=600, filename=\"output/flowlines.png\")\\\n",
    "\n",
    "flowlines_map.d_rast(map=\"flowaccup_1m\")\n",
    "flowlines_map.d_vect(map=\"elev_lid792_cont_1m\", color=\"red\")\n",
    "\n",
    "# Display map\n",
    "flowlines_map.show()"
   ]
  },
  {
   "cell_type": "markdown",
   "id": "53b8e676-c13f-4876-90f4-f519f64caad9",
   "metadata": {},
   "source": [
    "<div class=\"alert alert-block alert-info\">\n",
    "\n",
    "### Question: On what type of landform (ridge, valley) they converge?"
   ]
  },
  {
   "cell_type": "markdown",
   "id": "76fc579b-0843-4c3e-92e6-a6a3a31bb497",
   "metadata": {},
   "source": [
    "...Write your response here..."
   ]
  },
  {
   "cell_type": "markdown",
   "id": "7a65513a-c554-43c5-b852-c80692a015ca",
   "metadata": {},
   "source": [
    "## Compare the multiple flow direction result with D8 and Dinf"
   ]
  },
  {
   "cell_type": "code",
   "execution_count": null,
   "id": "daadfe1e-e110-4efb-895a-5402cd770ee1",
   "metadata": {},
   "outputs": [],
   "source": [
    "%%bash\n",
    "r.watershed -a elevation=elev_lid792_1m threshold=5000 accumulation=accum_mfd_5K1m --quiet"
   ]
  },
  {
   "cell_type": "markdown",
   "id": "03c5972c-276f-465b-bcc6-e549242f7447",
   "metadata": {},
   "source": [
    "Display multiple flow direction."
   ]
  },
  {
   "cell_type": "code",
   "execution_count": null,
   "id": "70b994b6-4da7-4013-bf30-b420221549ce",
   "metadata": {},
   "outputs": [],
   "source": [
    "# Create Map instance\n",
    "stream_mfd_map = gj.Map(height=600, width=600, filename=\"output/stream_mfd.png\")\n",
    "stream_mfd_map.d_rast(map=\"accum_mfd_5K1m\")\n",
    "stream_mfd_map.d_vect(map=\"streams\")\n",
    "\n",
    "# Display map\n",
    "stream_mfd_map.show()"
   ]
  },
  {
   "cell_type": "markdown",
   "id": "c659bf41-780e-449c-907b-87a2346a3454",
   "metadata": {},
   "source": [
    "Display single flow direction"
   ]
  },
  {
   "cell_type": "code",
   "execution_count": null,
   "id": "8e42f301-bf0b-4c56-bbf4-a715a3810aa1",
   "metadata": {},
   "outputs": [],
   "source": [
    "# Create Map instance\n",
    "stream_sfd_map = gj.Map(height=600, width=600, filename=\"output/stream_sfd.png\")\\\n",
    "\n",
    "stream_sfd_map.d_rast(map=\"accum_5K\")\n",
    "stream_sfd_map.d_vect(map=\"streams\")\n",
    "\n",
    "# Display map\n",
    "stream_sfd_map.show()"
   ]
  },
  {
   "cell_type": "markdown",
   "id": "1c777aa9-3615-41be-a275-82d2bfc03b10",
   "metadata": {},
   "source": [
    "<div class=\"alert alert-block alert-info\">\n",
    "\n",
    "### Question: Compare the results of r.watershed: accum_5K and accum_mfd_5K1m. Why are they different, which is more accurate and why?"
   ]
  },
  {
   "cell_type": "markdown",
   "id": "1d9efa51-8cf1-4218-845a-68adc49c2269",
   "metadata": {},
   "source": [
    "...Write your response here..."
   ]
  },
  {
   "cell_type": "markdown",
   "id": "fbdbd8d2-a65e-4758-9927-e264005aec59",
   "metadata": {},
   "source": [
    "## Compute wetness index"
   ]
  },
  {
   "cell_type": "code",
   "execution_count": null,
   "id": "cc2a5dba-f769-45c4-a9e2-627762059922",
   "metadata": {},
   "outputs": [],
   "source": [
    "%%bash\n",
    "g.region rural_1m -p\n",
    "r.topidx elev_lid792_1m output=wetness_1m\n",
    "r.colors map=wetness_1m color=water"
   ]
  },
  {
   "cell_type": "code",
   "execution_count": null,
   "id": "ee4e3408-1a81-43bd-b7ae-939bdfba53cd",
   "metadata": {},
   "outputs": [],
   "source": [
    "# Create Map instance\n",
    "wetness_map = gj.Map(height=600, width=600, filename=\"output/wetness.png\")\n",
    "wetness_map.d_rast(map=\"wetness_1m\")\n",
    "\n",
    "wetness_map.show()"
   ]
  },
  {
   "cell_type": "markdown",
   "id": "cd41d93f-2af8-4fec-a448-5160a1559e9c",
   "metadata": {},
   "source": [
    "Display `elev_lid792_1m` in 3D and drape over `wetness_1m` as color.\\\n",
    "Note: switch off all layers except for elev_lid792_1m"
   ]
  },
  {
   "cell_type": "code",
   "execution_count": null,
   "id": "ab6a9e9d-8e9c-4e79-8490-8c35998f8aa8",
   "metadata": {},
   "outputs": [],
   "source": [
    "elevation_3dmap = gj.Map3D(filename=\"output/3dWetnessIndex.png\")\n",
    "# Full list of options m.nviz.image\n",
    "# https://grass.osgeo.org/grass83/manuals/m.nviz.image.html\n",
    "elevation_3dmap.render(\n",
    "    elevation_map=\"elev_lid792_1m\",\n",
    "    color_map=\"wetness_1m\",\n",
    "    perspective=20,\n",
    "    height=3000,\n",
    "    vline=\"streams\",\n",
    "    vline_color=\"blue\",\n",
    "    vpoint=\"usgsgages\",\n",
    "    vpoint_color=\"red\",\n",
    "    vpoint_marker=\"sphere\",\n",
    "    vpoint_size=200,\n",
    "    fringe=['ne','nw','sw','se'],\n",
    "    arrow_position=[100,50],\n",
    ")\n",
    "elevation_3dmap.overlay.d_legend(raster=\"wetness_1m\", at=(60, 97, 87, 92))\n",
    "elevation_3dmap.overlay.d_barscale(at=(60, 97, 87, 92))\n",
    "\n",
    "elevation_3dmap.show()"
   ]
  },
  {
   "cell_type": "markdown",
   "id": "715ff64e-f729-47ab-97d2-12d01d790916",
   "metadata": {},
   "source": [
    "**Compute the wettness index using the formula in the lecture**\n",
    "\n",
    "> hint: you will need to compute slope using `elev_lid792_1m` and use `accum_mfd_5K1m` as contributing area.\n",
    "\n",
    "Check the values by comparing your output with wetness_1m computed with r.topidx.\n",
    "\n",
    "[r.topidx](https://grass.osgeo.org/grass83/manuals/r.topidx.html) creates topographic index (wetness index), ln(a/tan(beta)), map from elevation map\n",
    "\n",
    "where\n",
    "```\n",
    "    a: the area of the hillslope per unit contour length that drains through any point,\n",
    "\n",
    "    tan(beta): the local surface topographic slope (delta vertical) / (delta horizontal).\n",
    "```"
   ]
  },
  {
   "cell_type": "markdown",
   "id": "cabcbc39-8c90-405e-92f4-8d1454d8d4ae",
   "metadata": {},
   "source": [
    "<div class=\"alert alert-block alert-info\">\n",
    "\n",
    "### Task: Compute and Compare Wetness Indices"
   ]
  },
  {
   "cell_type": "code",
   "execution_count": null,
   "id": "9f0068ea-8cb5-470a-b760-65f6ed2aa653",
   "metadata": {},
   "outputs": [],
   "source": [
    "%%bash\n",
    "## Add your code here"
   ]
  },
  {
   "cell_type": "markdown",
   "id": "f446ad5a-a483-4527-8ed0-c30e9b652fda",
   "metadata": {},
   "source": [
    "## Create a map of flooded area\n",
    "\n",
    "Create a map of flooded area for a given water level and seed point: "
   ]
  },
  {
   "cell_type": "code",
   "execution_count": null,
   "id": "5c8a4ee7-e2e5-4677-b6d0-09f3c7ea9e96",
   "metadata": {},
   "outputs": [],
   "source": [
    "%%bash\n",
    "r.lake elevation=elev_lid792_1m water_level=113.5 lake=flood1 coordinates=638728,220278"
   ]
  },
  {
   "cell_type": "markdown",
   "id": "062354c1-a992-411a-bb56-53acf5048aac",
   "metadata": {},
   "source": [
    "Display flooded area"
   ]
  },
  {
   "cell_type": "code",
   "execution_count": null,
   "id": "845917bd-d355-4b9a-8e91-aa78b048a600",
   "metadata": {},
   "outputs": [],
   "source": [
    "# Create Map instance\n",
    "floodedarea_map = gj.Map(filename=\"output/floodedarea.png\")\n",
    "\n",
    "floodedarea_map.d_rast(map=\"elev_lid792_1m\")\n",
    "floodedarea_map.d_rast(map=\"flood1\")\n",
    "\n",
    "# Display map\n",
    "floodedarea_map.show()"
   ]
  },
  {
   "cell_type": "markdown",
   "id": "0c4edc71-4e1e-4951-974a-268ef9a722d5",
   "metadata": {},
   "source": [
    "<div class=\"alert alert-block alert-info\">\n",
    "\n",
    "### Task: Increase water level to 113.7m and 115.0m and create flooded area maps at these two levels. Include the maps of flooded areas at these water levels in your report. "
   ]
  },
  {
   "cell_type": "code",
   "execution_count": null,
   "id": "403ced01-b784-4d72-b9e8-cc224c239cc4",
   "metadata": {},
   "outputs": [],
   "source": [
    "%%bash\n",
    "## Add your code here"
   ]
  }
 ],
 "metadata": {
  "kernelspec": {
   "display_name": "Python 3 (ipykernel)",
   "language": "python",
   "name": "python3"
  },
  "language_info": {
   "codemirror_mode": {
    "name": "ipython",
    "version": 3
   },
   "file_extension": ".py",
   "mimetype": "text/x-python",
   "name": "python",
   "nbconvert_exporter": "python",
   "pygments_lexer": "ipython3",
   "version": "3.10.12"
  }
 },
 "nbformat": 4,
 "nbformat_minor": 5
}
