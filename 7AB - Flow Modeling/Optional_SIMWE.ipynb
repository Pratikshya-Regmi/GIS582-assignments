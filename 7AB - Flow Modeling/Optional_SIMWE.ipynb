{
 "cells": [
  {
   "cell_type": "markdown",
   "id": "9636fab0-5eec-4f27-9f42-4659d892206a",
   "metadata": {},
   "source": [
    "# NCSU GIS 582: Geospatial Modeling and Analysis\n",
    "\n",
    "## 7-Optional: Surface water flow and erosion simulation\n",
    "\n",
    "### Outline:\n",
    "\n",
    "Here we compute surface runoff, and sediment transport using existing path sampling model. \n"
   ]
  },
  {
   "cell_type": "code",
   "execution_count": null,
   "id": "b75ac40a-26d5-4969-aab9-112026386140",
   "metadata": {},
   "outputs": [],
   "source": [
    "import sys\n",
    "v = sys.version_info\n",
    "print(f\"We are using Python {v.major}.{v.minor}.{v.micro}\")"
   ]
  },
  {
   "cell_type": "markdown",
   "id": "dececa58-a375-480a-8408-70b5330afb36",
   "metadata": {},
   "source": [
    "## Start GRASS GIS\n",
    "\n",
    "Create a new mapset to run your analysis."
   ]
  },
  {
   "cell_type": "code",
   "execution_count": null,
   "id": "24532982-5809-4a88-a631-6175b0ef3f55",
   "metadata": {},
   "outputs": [],
   "source": [
    "%%bash\n",
    "\n",
    "grass -c -e ~/grassdata/nc_spm_08_grass7/HW_7B_Flow_Modeling"
   ]
  },
  {
   "cell_type": "code",
   "execution_count": null,
   "id": "9aa5ba7c-18af-4046-be81-7a9ac153d1f4",
   "metadata": {},
   "outputs": [],
   "source": [
    "import subprocess\n",
    "import sys\n",
    "\n",
    "# Ask GRASS GIS where its Python packages are.\n",
    "# FOR WINDOWS:\n",
    "# grass_call = \"grass80\"\n",
    "# shell_setting = True\n",
    "# FOR MAC/LINUX\n",
    "grass_call = \"grass\"\n",
    "shell_setting = False\n",
    "\n",
    "sys.path.append(\n",
    "    subprocess.check_output([grass_call, \"--config\", \"python_path\"], text=True, shell=shell_setting).strip()\n",
    ")\n",
    "\n",
    "# Import GRASS packages\n",
    "import grass.script as gs\n",
    "import grass.jupyter as gj\n",
    "\n",
    "# Start GRASS Session\n",
    "gj.init(\"~/grassdata\", \"nc_spm_08_grass7\", \"HW_7B_Flow_Modeling\")"
   ]
  },
  {
   "cell_type": "markdown",
   "id": "8c888b6c-7454-45d2-887e-ad8fb376fd95",
   "metadata": {},
   "source": [
    "## Overland flow depth and discharge"
   ]
  },
  {
   "cell_type": "code",
   "execution_count": null,
   "id": "2a8f918e-5375-4772-962c-413cf68401b3",
   "metadata": {},
   "outputs": [],
   "source": [
    "%%bash\n",
    "g.region rural_1m res=2 -p"
   ]
  },
  {
   "cell_type": "markdown",
   "id": "cce64b33-3172-4eb1-aa2b-a4de16ab2167",
   "metadata": {},
   "source": [
    "Calculate partial derivatives to define the gradient of elevation surface: "
   ]
  },
  {
   "cell_type": "code",
   "execution_count": null,
   "id": "f6d075d8-34f1-4901-a87d-a135ea8eaaa0",
   "metadata": {},
   "outputs": [],
   "source": [
    "%%bash\n",
    "v.surf.rst -d input=elev_lid792_bepts elevation=elev_lid792_2m slope=dx_2m aspect=dy_2m tension=15 smooth=1.5 npmin=150"
   ]
  },
  {
   "cell_type": "markdown",
   "id": "6eace794-a3e8-41a0-acda-1cea9aa623f0",
   "metadata": {},
   "source": [
    "Note that partial derivatives can be also computed using [r.slope.aspect](https://grass.osgeo.org/grass76/manuals/r.slope.aspect.html).\n",
    "\n",
    "Compute spatial pattern of overland flow depth and discharge by running the SIMWE model implemented in the [r.sim.water](https://grass.osgeo.org/grass76/manuals/r.sim.water.html) module. We will use uniform rainfall excess, infiltration and land cover. "
   ]
  },
  {
   "cell_type": "code",
   "execution_count": null,
   "id": "b4722003-fb41-4d82-a7cc-bad48075c51d",
   "metadata": {},
   "outputs": [],
   "source": [
    "%%bash\n",
    "r.sim.water -t elevation=elev_lid792_2m dx=dx_2m dy=dy_2m rain_value=50 infil_value=0 man_value=0.05 depth=wdp_2m discharge=disch_2m nwalkers=100000 niterations=30 output_step=2"
   ]
  },
  {
   "cell_type": "markdown",
   "id": "853ea83f-1502-48e2-bd7f-4c631d9bc8db",
   "metadata": {},
   "source": [
    "Display the results, add legend for individual raster and whatever you think is appropriate. "
   ]
  },
  {
   "cell_type": "markdown",
   "id": "284043c3-f166-4e9d-834b-543f94c6b5fd",
   "metadata": {},
   "source": [
    "Display Water Depth"
   ]
  },
  {
   "cell_type": "code",
   "execution_count": null,
   "id": "96479276-d18e-4c1c-8276-be49259caaf0",
   "metadata": {},
   "outputs": [],
   "source": [
    "# Create Map instance\n",
    "wdp_2m_30_map = gj.Map(height=600, width=600, use_region=True, filename=\"output/wdp_2m_30.png\")\n",
    "wdp_2m_30_map.d_rast(map=\"wdp_2m.30\")\n",
    "# Display map\n",
    "wdp_2m_30_map.show()"
   ]
  },
  {
   "cell_type": "markdown",
   "id": "b0d5be0c-9236-4c2d-a680-59ed8deca0dc",
   "metadata": {},
   "source": [
    "Display Discharge Rate"
   ]
  },
  {
   "cell_type": "code",
   "execution_count": null,
   "id": "83836eb8-2d96-4eae-bf01-350e333c94a3",
   "metadata": {},
   "outputs": [],
   "source": [
    "disch_2m_30_map = gj.Map(height=600, width=600, use_region=True, filename=\"output/disch_2m_30.png\")\n",
    "disch_2m_30_map.d_rast(map=\"disch_2m.30\")\n",
    "# Display map\n",
    "disch_2m_30_map.show()"
   ]
  },
  {
   "cell_type": "markdown",
   "id": "d16797f9-3542-40ec-9360-e868ffeee139",
   "metadata": {},
   "source": [
    "Create an interactive time-series map"
   ]
  },
  {
   "cell_type": "code",
   "execution_count": null,
   "id": "6e8c70a4-1844-405f-8c80-6d212768093f",
   "metadata": {},
   "outputs": [],
   "source": [
    "gs.run_command(\n",
    "    \"t.create\",\n",
    "    output=\"depth_sum\",\n",
    "    type=\"strds\",\n",
    "    temporaltype=\"absolute\",\n",
    "    title=\"Runoff Depth\",\n",
    "    description=\"Runoff Depth in [m]\",\n",
    ")\n",
    "\n",
    "depth_list = gs.read_command(\n",
    "    \"g.list\", type=\"raster\", pattern=\"wdp_2m.*\", separator=\"comma\"\n",
    ").strip()\n",
    "\n",
    "\n",
    "gs.run_command(\n",
    "    \"t.register\",\n",
    "    input=\"depth_sum\",\n",
    "    type=\"raster\",\n",
    "    start=\"2023-01-01\",\n",
    "    increment=\"2 minutes\",\n",
    "    maps=depth_list,\n",
    "    flags=\"i\",\n",
    ")"
   ]
  },
  {
   "cell_type": "code",
   "execution_count": null,
   "id": "feecb4b9-50b0-451c-815b-9610f8d95bf0",
   "metadata": {},
   "outputs": [],
   "source": [
    "# help(gj.timeseriesmap)\n",
    "depth_sum_ts_map = gj.TimeSeriesMap(height=600, width=600, use_region=True)\n",
    "depth_sum_ts_map.add_raster_series(\"depth_sum\")\n",
    "depth_sum_ts_map.d_legend()\n",
    "depth_sum_ts_map.render()\n",
    "# help(depth_sum_ts_map)\n",
    "depth_sum_ts_map.save(\"output/depth_sum.gif\")\n",
    "depth_sum_ts_map.show()"
   ]
  },
  {
   "cell_type": "markdown",
   "id": "68e4a60a-c44b-47d4-b1ab-d3dd96deba2f",
   "metadata": {},
   "source": [
    "![Depth](output/depth_sum.gif \"Depth\")"
   ]
  },
  {
   "cell_type": "markdown",
   "id": "888a21e0-d4ab-4e4c-9518-d50b43b39b98",
   "metadata": {},
   "source": [
    "## Peak runoff with predefined flow direction\n",
    "\n",
    "Compute peak runoff with predefined flow direction along the stream inluding culvert under the road.\n",
    "\n",
    "First, compute direction (aspect) of the given streams: "
   ]
  },
  {
   "cell_type": "code",
   "execution_count": null,
   "id": "af960f21-d99c-40e4-b748-8ab553cc1a69",
   "metadata": {},
   "outputs": [],
   "source": [
    "%%bash\n",
    "\n",
    "v.to.rast streams output=streams_dir_2m use=dir"
   ]
  },
  {
   "cell_type": "markdown",
   "id": "01211b01-7395-4bee-954f-8b2276b0c449",
   "metadata": {},
   "source": [
    "Compute stream dx and dy using direction and slope equal to 2 degrees: "
   ]
  },
  {
   "cell_type": "code",
   "execution_count": null,
   "id": "0157b88b-1f9b-4946-8be6-3848d22efddf",
   "metadata": {},
   "outputs": [],
   "source": [
    "%%bash\n",
    "r.mapcalc \"dxstr_2m = tan(2.)*cos(streams_dir_2m)\"\n",
    "r.mapcalc \"dystr_2m = tan(2.)*sin(streams_dir_2m)\""
   ]
  },
  {
   "cell_type": "markdown",
   "id": "dcfc5164-8631-4677-8027-613d7d8bebf1",
   "metadata": {},
   "source": [
    "Compute combined DEM and stream dx and dy: "
   ]
  },
  {
   "cell_type": "code",
   "execution_count": null,
   "id": "5134c0f7-0a96-4c4c-b499-71b04502b0b0",
   "metadata": {},
   "outputs": [],
   "source": [
    "%%bash\n",
    "r.mapcalc \"dxdemstr_2m = if(isnull(dxstr_2m), dx_2m, dxstr_2m)\"\n",
    "r.mapcalc \"dydemstr_2m = if(isnull(dystr_2m), dy_2m, dystr_2m)\""
   ]
  },
  {
   "cell_type": "markdown",
   "id": "501e1f90-80bf-435a-a5ee-d530244135ab",
   "metadata": {},
   "source": [
    "Run the model: "
   ]
  },
  {
   "cell_type": "code",
   "execution_count": null,
   "id": "f282aece-c484-4daf-9eaa-8504d6d42541",
   "metadata": {},
   "outputs": [],
   "source": [
    "%%bash\n",
    "r.sim.water -t elevation=elev_lid792_2m dx=dxdemstr_2m dy=dydemstr_2m rain_value=50 infil_value=0 man_value=0.05 depth=wdpstr_2m discharge=dischstr_2m nwalkers=100000 niterations=30 output_step=2"
   ]
  },
  {
   "cell_type": "code",
   "execution_count": null,
   "id": "56a2e02b-bef0-40d0-8ba1-d047edec930f",
   "metadata": {},
   "outputs": [],
   "source": [
    "dischstr_2m_30_map = gj.Map(height=600, width=600, use_region=True, filename=\"output/dischstr_2m_30.png\")\n",
    "dischstr_2m_30_map.d_rast(map=\"dischstr_2m.30\")\n",
    "# Display map\n",
    "dischstr_2m_30_map.show()"
   ]
  },
  {
   "cell_type": "markdown",
   "id": "d09f266f-453b-4bfe-9afa-ff1ca985500c",
   "metadata": {},
   "source": [
    "## Runoff for spatially variable landcover and rainfall excess\n",
    "\n",
    "Compute runoff for spatially variable landcover represented by spatially variable Mannings and rainfall excess.\n",
    "\n",
    "We will use variable Mannings coefficient defined by reclassifying land cover class. Here is the content of a file called `land_to_mannings.txt` with reclassification rules for the  module.\n",
    "\n",
    "```\n",
    "1:1:0.9:0.9\n",
    "2:2:0.5:0.5\n",
    "3:3:0.01:0.01\n",
    "4:4:0.03:0.03\n",
    "5:5:0.01:0.01\n",
    "6:6:0.05:0.05\n",
    "7:7:0.1:0.1\n",
    "8:8:0.1:0.1\n",
    "9:9:0.9:0.9\n",
    "10:10:0.03:0.03\n",
    "11:11:0.5:0.5\n",
    "```"
   ]
  },
  {
   "cell_type": "code",
   "execution_count": null,
   "id": "d45a4d4f-34ce-4e29-8c26-7ce9befcc165",
   "metadata": {},
   "outputs": [],
   "source": [
    "%%bash\n",
    "r.recode input=landcover_1m output=mancover_2m rules=inputs/land_to_mannings.txt"
   ]
  },
  {
   "cell_type": "markdown",
   "id": "a267c9b5-196d-426b-9e19-7f61bde4b978",
   "metadata": {},
   "source": [
    "Similarly, we will create raster with spatially variable rainfall excess rates based on the land cover classes. We use file named `land_to_rain.txt` to specify the rates for individual classes.\n",
    "\n",
    "```\n",
    "1:1:50:50\n",
    "2:2:5:5\n",
    "3:3:40:40\n",
    "4:4:35:35\n",
    "5:5:50:50\n",
    "6:6:40:40\n",
    "7:7:25:25\n",
    "8:8:15:15\n",
    "9:9:50.:50.\n",
    "10:10:40:40\n",
    "11:11:10:10\n",
    "```"
   ]
  },
  {
   "cell_type": "markdown",
   "id": "377c485a-ab41-4a3e-83c2-c708c0879fc1",
   "metadata": {},
   "source": [
    "Again, we use the file as rules for the [r.recode](https://grass.osgeo.org/grass76/manuals/r.recode.html) module."
   ]
  },
  {
   "cell_type": "code",
   "execution_count": null,
   "id": "032fc6ca-bb34-4ae1-816c-7c8dd0e82bd3",
   "metadata": {},
   "outputs": [],
   "source": [
    "%%bash\n",
    "r.recode input=landcover_1m output=raincover_2m rules=inputs/land_to_rain.txt"
   ]
  },
  {
   "cell_type": "markdown",
   "id": "be9c42d1-e1f6-4a8a-bccc-210d50a1b7b9",
   "metadata": {},
   "source": [
    "Run the model: "
   ]
  },
  {
   "cell_type": "code",
   "execution_count": null,
   "id": "8052f22c-7f8f-4b96-ab1b-44dba1886b4c",
   "metadata": {},
   "outputs": [],
   "source": [
    "%%bash\n",
    "r.sim.water -t elevation=elev_lid792_2m dx=dxdemstr_2m dy=dydemstr_2m rain=raincover_2m infil_value=0 man=mancover_2m depth=wdpstrcov_2m discharge=distrcov_2m nwalkers=100000 niterations=30 output_step=2"
   ]
  },
  {
   "cell_type": "code",
   "execution_count": null,
   "id": "ecc3bd0a-eb1b-44ac-b61d-4d9d11deab86",
   "metadata": {},
   "outputs": [],
   "source": [
    "wdpstrcov_2m_30_map = gj.Map(height=600, width=600, use_region=True, filename=\"output/wdpstrcov_2m_30.png\")\n",
    "wdpstrcov_2m_30_map.d_rast(map=\"wdpstrcov_2m.30\")\n",
    "wdpstrcov_2m_30_map.d_legend(raster=\"wdpstrcov_2m.30\")\n",
    "# Display map\n",
    "wdpstrcov_2m_30_map.show()"
   ]
  },
  {
   "cell_type": "code",
   "execution_count": null,
   "id": "a0896ce5-e75e-4c24-955a-bea0d13e4bb7",
   "metadata": {},
   "outputs": [],
   "source": [
    "distrcov_2m_30_map = gj.Map(height=600, width=600, use_region=True, filename=\"output/distrcov_2m_30.png\")\n",
    "distrcov_2m_30_map.d_rast(map=\"distrcov_2m.30\")\n",
    "distrcov_2m_30_map.d_legend(raster=\"distrcov_2m.30\")\n",
    "# Display map\n",
    "distrcov_2m_30_map.show()"
   ]
  },
  {
   "cell_type": "markdown",
   "id": "bb6d3c3c-045f-486b-9b54-e468e07ed178",
   "metadata": {},
   "source": [
    "## Sediment flow rate, erosion and deposition\n",
    "\n",
    "Compute sediment flow rate and net erosion/deposition using sediment transport part of the SIMWE model implemented in the the r.sim.sediment module. To make the computations faster, set region just to the upper part of the watershed: "
   ]
  },
  {
   "cell_type": "code",
   "execution_count": null,
   "id": "19b9761c-68f1-453e-ac57-11dff089997b",
   "metadata": {},
   "outputs": [],
   "source": [
    "%%bash\n",
    "g.region s=s+290"
   ]
  },
  {
   "cell_type": "markdown",
   "id": "dde3c0fc-84c5-42a9-9601-8ddf12b5ca1c",
   "metadata": {},
   "source": [
    "Compute input transport capacity and detachment coefficient maps: "
   ]
  },
  {
   "cell_type": "code",
   "execution_count": null,
   "id": "33448803-86cf-4d2d-95d3-40ba5b343b55",
   "metadata": {},
   "outputs": [],
   "source": [
    "%%bash\n",
    "r.mapcalc \"tranin = 0.001\"\n",
    "r.mapcalc \"detin = 0.001\""
   ]
  },
  {
   "cell_type": "markdown",
   "id": "63166dd1-cb8d-4a13-a354-7bcd7359cc9c",
   "metadata": {},
   "source": [
    "Compute input critical shear stress: "
   ]
  },
  {
   "cell_type": "code",
   "execution_count": null,
   "id": "0d38f7d7-0045-4b7e-90a5-1cdb7e2680df",
   "metadata": {},
   "outputs": [],
   "source": [
    "%%bash\n",
    "r.mapcalc \"tauin = 0.01\""
   ]
  },
  {
   "cell_type": "markdown",
   "id": "43e01bb5-769a-4744-8201-a08f01a512cf",
   "metadata": {},
   "source": [
    "Run the model using the last depth from previous run: "
   ]
  },
  {
   "cell_type": "code",
   "execution_count": null,
   "id": "b1f1a19e-e8ae-44ca-8a43-29bf756916d3",
   "metadata": {},
   "outputs": [],
   "source": [
    "%%bash\n",
    "g.copy rast=wdp_2m.30,wdp_2m\n",
    "r.sim.sediment elevation=elev_lid792_2m dx=dx_2m dy=dy_2m water_depth=wdp_2m detachment_coeff=detin transport_coeff=tranin shear_stress=tauin man_value=0.05 nwalkers=1000000 niterations=30 transport_capacity=tcapacity tlimit_erosion_deposition=erdepmax sediment_flux=sedflow erosion_deposition=erdepsimwe"
   ]
  },
  {
   "cell_type": "markdown",
   "id": "ea2cdcd4-f772-4135-81cf-ad5d8bab7392",
   "metadata": {},
   "source": [
    "**Transport capacity raster map [kg/ms]**"
   ]
  },
  {
   "cell_type": "code",
   "execution_count": null,
   "id": "e39bc83b-98e3-497b-be87-f7d420f74fae",
   "metadata": {},
   "outputs": [],
   "source": [
    "tcapacity_map = gj.Map(height=600, width=600, use_region=True, filename=\"output/tcapacity.png\")\n",
    "tcapacity_map.d_rast(map=\"tcapacity\")\n",
    "tcapacity_map.d_legend(raster=\"tcapacity\")\n",
    "# Display map\n",
    "tcapacity_map.show()"
   ]
  },
  {
   "cell_type": "markdown",
   "id": "cbcc5f51-6e8f-4743-b18a-a27d3fdffdb3",
   "metadata": {},
   "source": [
    "**Transport limited erosion-deposition raster map [kg/m2s]**"
   ]
  },
  {
   "cell_type": "code",
   "execution_count": null,
   "id": "eb21ae2e-131d-4016-95ad-7e1b4e33e257",
   "metadata": {},
   "outputs": [],
   "source": [
    "erdepmax_map = gj.Map(height=600, width=600, use_region=True, filename=\"output/erdepmax.png\")\n",
    "erdepmax_map.d_rast(map=\"erdepmax\")\n",
    "erdepmax_map.d_legend(raster=\"erdepmax\")\n",
    "# Display map\n",
    "erdepmax_map.show()"
   ]
  },
  {
   "cell_type": "markdown",
   "id": "cced6111-f81f-4cfc-bd6f-683897c39589",
   "metadata": {},
   "source": [
    " Display the final results: "
   ]
  },
  {
   "cell_type": "markdown",
   "id": "cb6faf55-d028-4702-accb-4d307d20e891",
   "metadata": {},
   "source": [
    "**Sediment flux raster map [kg/ms]**"
   ]
  },
  {
   "cell_type": "code",
   "execution_count": null,
   "id": "e2b95e28-767e-49dd-b989-eda9118b16ae",
   "metadata": {},
   "outputs": [],
   "source": [
    "sedflow_map = gj.Map(height=600, width=600, use_region=True, filename=\"output/sedflow.png\")\n",
    "sedflow_map.d_rast(map=\"sedflow\")\n",
    "sedflow_map.d_legend(raster=\"sedflow\")\n",
    "# Display map\n",
    "sedflow_map.show()"
   ]
  },
  {
   "cell_type": "markdown",
   "id": "93429071-c268-4df7-b7c1-0cb56da91e7c",
   "metadata": {},
   "source": [
    "**Erosion-deposition raster map [kg/m2s]**"
   ]
  },
  {
   "cell_type": "code",
   "execution_count": null,
   "id": "d6397882-02b7-4c18-be4c-7af16b090135",
   "metadata": {},
   "outputs": [],
   "source": [
    "erdepsimwe_map = gj.Map(height=600, width=600, use_region=True, filename=\"output/erdepsimwe.png\")\n",
    "erdepsimwe_map.d_rast(map=\"erdepsimwe\")\n",
    "erdepsimwe_map.d_legend(raster=\"erdepsimwe\")\n",
    "# Display map\n",
    "erdepsimwe_map.show()"
   ]
  },
  {
   "cell_type": "code",
   "execution_count": null,
   "id": "92910b2e-01b1-4564-91f7-0c4c44cb6a41",
   "metadata": {},
   "outputs": [],
   "source": []
  }
 ],
 "metadata": {
  "kernelspec": {
   "display_name": "Python 3 (ipykernel)",
   "language": "python",
   "name": "python3"
  },
  "language_info": {
   "codemirror_mode": {
    "name": "ipython",
    "version": 3
   },
   "file_extension": ".py",
   "mimetype": "text/x-python",
   "name": "python",
   "nbconvert_exporter": "python",
   "pygments_lexer": "ipython3",
   "version": "3.10.12"
  }
 },
 "nbformat": 4,
 "nbformat_minor": 5
}
